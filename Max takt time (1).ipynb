{
 "cells": [
  {
   "cell_type": "markdown",
   "metadata": {},
   "source": [
    "# Max takt time #"
   ]
  },
  {
   "cell_type": "markdown",
   "metadata": {},
   "source": [
    "The folowing stations need to be tjek for their interval R11, H8 and H10 "
   ]
  },
  {
   "cell_type": "code",
   "execution_count": 1,
   "metadata": {},
   "outputs": [],
   "source": [
    "import pandas as pd\n",
    "import numpy as np\n"
   ]
  },
  {
   "cell_type": "markdown",
   "metadata": {},
   "source": [
    "# H8 #"
   ]
  },
  {
   "cell_type": "code",
   "execution_count": 2,
   "metadata": {},
   "outputs": [
    {
     "name": "stdout",
     "output_type": "stream",
     "text": [
      "               Task Name  Task Number  Number of observations  Average Time  \\\n",
      "0  takes the rubber seal            1                       5           9.7   \n",
      "1    install rubber seal            2                       5           6.5   \n",
      "2    move back and forth            3                       5           3.9   \n",
      "3           install foam            4                       5           3.1   \n",
      "4                 Screws            5                       5          14.3   \n",
      "\n",
      "   Standard Deviation  Degree of Freedom  \n",
      "0                 4.0                  4  \n",
      "1                 3.2                  4  \n",
      "2                 0.9                  4  \n",
      "3                 0.4                  4  \n",
      "4                 2.4                  4  \n"
     ]
    }
   ],
   "source": [
    "# structuer: task name, taks number, number of observations, average time, standard deviation\n",
    "# takes the rubber seal, 1, 5, 9.7, 4,0 \n",
    "# install rubber seal, 2, 5, 6.5, 3.2 \n",
    "# move back and forth, 3, 5, 3.9, 0.9\n",
    "# install foam, 4, 5, 3.1, 0.4\n",
    "# Screws, 5, 5, 14.3, 2.4 \n",
    "data = {\n",
    "    'Task Name': ['takes the rubber seal', 'install rubber seal', 'move back and forth', 'install foam', 'Screws'],\n",
    "    'Task Number': [1, 2, 3, 4, 5],\n",
    "    'Number of observations': [5, 5, 5, 5, 5],\n",
    "    'Average Time': [9.7, 6.5, 3.9, 3.1, 14.3],\n",
    "    'Standard Deviation': [4.0, 3.2, 0.9, 0.4, 2.4]\n",
    "}\n",
    "\n",
    "df_tasks = pd.DataFrame(data)\n",
    "\n",
    "# degree of freedom = n - 1 , n = number of observations\n",
    "df_tasks['Degree of Freedom'] = df_tasks['Number of observations'] - 1\n",
    "print(df_tasks)"
   ]
  },
  {
   "cell_type": "markdown",
   "metadata": {},
   "source": [
    "Margen of error (EBM)"
   ]
  },
  {
   "cell_type": "code",
   "execution_count": 3,
   "metadata": {},
   "outputs": [],
   "source": [
    "#EBM=t_v,alpha/(s/sqrt(n))\n",
    "cl = 0.90 #confidence level\n",
    "alpha = 1-cl"
   ]
  },
  {
   "cell_type": "markdown",
   "metadata": {},
   "source": [
    "t is read from tabular 2 where v = 4 and alpha/2 = 0.05"
   ]
  },
  {
   "cell_type": "code",
   "execution_count": 4,
   "metadata": {},
   "outputs": [
    {
     "name": "stdout",
     "output_type": "stream",
     "text": [
      "               Task Name  Task Number  Number of observations  Average Time  \\\n",
      "0  takes the rubber seal            1                       5           9.7   \n",
      "1    install rubber seal            2                       5           6.5   \n",
      "2    move back and forth            3                       5           3.9   \n",
      "3           install foam            4                       5           3.1   \n",
      "4                 Screws            5                       5          14.3   \n",
      "\n",
      "   Standard Deviation  Degree of Freedom       EBM  \n",
      "0                 4.0                  4  3.813838  \n",
      "1                 3.2                  4  3.051070  \n",
      "2                 0.9                  4  0.858113  \n",
      "3                 0.4                  4  0.381384  \n",
      "4                 2.4                  4  2.288303  \n"
     ]
    }
   ],
   "source": [
    "#t is read from tabular 2 where v = 4 and alpha/2 = 0,05\n",
    "t = 2.132 #t_v,alpha\n",
    "\n",
    "#calculate margin of error for each task\n",
    "#ebm = t * (std / sqrt(n))\n",
    "df_tasks['EBM'] = df_tasks.apply(lambda row: t * (row['Standard Deviation'] / np.sqrt(row['Number of observations'])), axis=1)\n",
    "print(df_tasks)\n"
   ]
  },
  {
   "cell_type": "code",
   "execution_count": 5,
   "metadata": {},
   "outputs": [
    {
     "name": "stdout",
     "output_type": "stream",
     "text": [
      "               Task Name  Task Number  Number of observations  Average Time  \\\n",
      "0  takes the rubber seal            1                       5           9.7   \n",
      "1    install rubber seal            2                       5           6.5   \n",
      "2    move back and forth            3                       5           3.9   \n",
      "3           install foam            4                       5           3.1   \n",
      "4                 Screws            5                       5          14.3   \n",
      "\n",
      "   Standard Deviation  Degree of Freedom       EBM  Interval Lower  \\\n",
      "0                 4.0                  4  3.813838        5.886162   \n",
      "1                 3.2                  4  3.051070        3.448930   \n",
      "2                 0.9                  4  0.858113        3.041887   \n",
      "3                 0.4                  4  0.381384        2.718616   \n",
      "4                 2.4                  4  2.288303       12.011697   \n",
      "\n",
      "   Interval Upper  \n",
      "0       13.513838  \n",
      "1        9.551070  \n",
      "2        4.758113  \n",
      "3        3.481384  \n",
      "4       16.588303  \n"
     ]
    }
   ],
   "source": [
    "#interval \n",
    "#mu = x_mean +- EBM = x_mean +- t_v,alpha/(s/sqrt(n))\n",
    "df_tasks['Interval Lower'] = df_tasks['Average Time'] - df_tasks['EBM']\n",
    "df_tasks['Interval Upper'] = df_tasks['Average Time'] + df_tasks['EBM']\n",
    "print(df_tasks)"
   ]
  },
  {
   "cell_type": "code",
   "execution_count": 6,
   "metadata": {},
   "outputs": [
    {
     "name": "stdout",
     "output_type": "stream",
     "text": [
      "54.60729269689558\n"
     ]
    }
   ],
   "source": [
    "#total lower intarval \n",
    "total_lower = df_tasks['Interval Lower'].sum() + 16.1 +11.4\n",
    "print(total_lower)"
   ]
  },
  {
   "cell_type": "markdown",
   "metadata": {},
   "source": [
    "The upper interval will here be takken and added together "
   ]
  },
  {
   "cell_type": "code",
   "execution_count": 7,
   "metadata": {},
   "outputs": [
    {
     "name": "stdout",
     "output_type": "stream",
     "text": [
      "75.39270730310443\n"
     ]
    }
   ],
   "source": [
    "total_upper_interval = df_tasks['Interval Upper'].sum() + 16.1 + 11.4\n",
    "print(total_upper_interval)"
   ]
  },
  {
   "cell_type": "code",
   "execution_count": 8,
   "metadata": {},
   "outputs": [
    {
     "name": "stdout",
     "output_type": "stream",
     "text": [
      "10.492707303104424\n"
     ]
    }
   ],
   "source": [
    "#the difffrent bettewn the upper and the avarge is\n",
    "print(total_upper_interval - 64.9)"
   ]
  },
  {
   "cell_type": "markdown",
   "metadata": {},
   "source": [
    "# H10 # "
   ]
  },
  {
   "cell_type": "code",
   "execution_count": 9,
   "metadata": {
    "vscode": {
     "languageId": "ruby"
    }
   },
   "outputs": [
    {
     "name": "stdout",
     "output_type": "stream",
     "text": [
      "                Task Name  Task Number  Number of observations  Average Time  \\\n",
      "0   remove plastic strips            1                       6           8.6   \n",
      "1             takes metal            2                       6           4.6   \n",
      "2          install metal             3                       6           4.7   \n",
      "3            screws metal            4                       6          11.2   \n",
      "4             move to get            5                       2           5.3   \n",
      "5            Remove dirt             6                       3           4.8   \n",
      "6     move back and forth            7                       6           8.5   \n",
      "7   install plastic frame            8                       6           8.6   \n",
      "8      move back to start            9                       6           2.5   \n",
      "\n",
      "   Standard Deviation  Degree of Freedom       EBM  Interval Lower  \\\n",
      "0                 3.1                  5  2.698195        5.901805   \n",
      "1                 1.6                  5  1.392617        3.207383   \n",
      "2                 0.3                  5  0.261116        4.438884   \n",
      "3                 0.7                  5  0.609270       10.590730   \n",
      "4                 0.2                  1  0.301510        4.998490   \n",
      "5                 0.6                  2  0.738546        4.061454   \n",
      "6                 3.3                  5  2.872272        5.627728   \n",
      "7                 1.4                  5  1.218539        7.381461   \n",
      "8                 1.8                  5  1.566694        0.933306   \n",
      "\n",
      "   Interval Upper  \n",
      "0       11.298195  \n",
      "1        5.992617  \n",
      "2        4.961116  \n",
      "3       11.809270  \n",
      "4        5.601510  \n",
      "5        5.538546  \n",
      "6       11.372272  \n",
      "7        9.818539  \n",
      "8        4.066694  \n",
      "                Task Name  Task Number  Number of observations  Average Time  \\\n",
      "0   remove plastic strips            1                       6           8.6   \n",
      "1             takes metal            2                       6           4.6   \n",
      "2          install metal             3                       6           4.7   \n",
      "3            screws metal            4                       6          11.2   \n",
      "4             move to get            5                       2           5.3   \n",
      "5            Remove dirt             6                       3           4.8   \n",
      "6     move back and forth            7                       6           8.5   \n",
      "7   install plastic frame            8                       6           8.6   \n",
      "8      move back to start            9                       6           2.5   \n",
      "\n",
      "   Standard Deviation  Degree of Freedom       EBM  Interval Lower  \\\n",
      "0                 3.1                  5  2.550123        6.049877   \n",
      "1                 1.6                  5  1.316192        3.283808   \n",
      "2                 0.3                  5  0.246786        4.453214   \n",
      "3                 0.7                  5  0.575834       10.624166   \n",
      "4                 0.2                  1  0.892934        4.407066   \n",
      "5                 0.6                  2  1.011518        3.788482   \n",
      "6                 3.3                  5  2.714647        5.785353   \n",
      "7                 1.4                  5  1.151668        7.448332   \n",
      "8                 1.8                  5  1.480717        1.019283   \n",
      "\n",
      "   Interval Upper      t  \n",
      "0       11.150123  2.015  \n",
      "1        5.916192  2.015  \n",
      "2        4.946786  2.015  \n",
      "3       11.775834  2.015  \n",
      "4        6.192934  6.314  \n",
      "5        5.811518  2.920  \n",
      "6       11.214647  2.015  \n",
      "7        9.751668  2.015  \n",
      "8        3.980717  2.015  \n",
      "46.859580160624255\n",
      "70.74041983937575\n",
      "11.94041983937575\n"
     ]
    }
   ],
   "source": [
    "# New tasks data\n",
    "new_data = {\n",
    "    'Task Name': [' remove plastic strips', ' takes metal', 'install metal ', 'screws metal', 'move to get', 'Remove dirt ','move back and forth','install plastic frame','move back to start'],\n",
    "    'Task Number': [1, 2, 3, 4, 5, 6, 7, 8, 9],\n",
    "    'Number of observations': [6, 6, 6, 6, 2, 3, 6, 6, 6],\n",
    "    'Average Time': [8.6, 4.6, 4.7, 11.2, 5.3, 4.8, 8.5, 8.6, 2.5 ],\n",
    "    'Standard Deviation': [3.1, 1.6, 0.3, 0.7, 0.2, 0.6, 3.3, 1.4, 1.8  ]\n",
    "}\n",
    "\n",
    "df_new_tasks = pd.DataFrame(new_data)\n",
    "# Degree of freedom = n - 1 , n = number of observations\n",
    "df_new_tasks['Degree of Freedom'] = df_new_tasks['Number of observations'] - 1\n",
    "\n",
    "# Calculate margin of error for each task\n",
    "df_new_tasks['EBM'] = df_new_tasks.apply(lambda row: t * (row['Standard Deviation'] / np.sqrt(row['Number of observations'])), axis=1)\n",
    "\n",
    "# Calculate interval\n",
    "df_new_tasks['Interval Lower'] = df_new_tasks['Average Time'] - df_new_tasks['EBM']\n",
    "df_new_tasks['Interval Upper'] = df_new_tasks['Average Time'] + df_new_tasks['EBM']\n",
    "\n",
    "# Print the new dataframe\n",
    "print(df_new_tasks)\n",
    "# Update t based on the value of v\n",
    "df_new_tasks['t'] = df_new_tasks['Degree of Freedom'].apply(lambda v: 6.314 if v == 1 else 2.920 if v == 2 else 2.353 if v == 3 else 2.132 if v == 4 else 2.015 if v == 5 else None)\n",
    "\n",
    "# Recalculate margin of error for each task with the updated t values\n",
    "df_new_tasks['EBM'] = df_new_tasks.apply(lambda row: row['t'] * (row['Standard Deviation'] / np.sqrt(row['Number of observations'])), axis=1)\n",
    "\n",
    "# Recalculate interval with the updated EBM values\n",
    "df_new_tasks['Interval Lower'] = df_new_tasks['Average Time'] - df_new_tasks['EBM']\n",
    "df_new_tasks['Interval Upper'] = df_new_tasks['Average Time'] + df_new_tasks['EBM']\n",
    "\n",
    "# Print the updated dataframe\n",
    "print(df_new_tasks)\n",
    "\n",
    "# Calculate total lower interval\n",
    "new_total_lower_interval = df_new_tasks['Interval Lower'].sum()\n",
    "print(new_total_lower_interval)\n",
    "\n",
    "# Calculate total upper interval\n",
    "new_total_upper_interval = df_new_tasks['Interval Upper'].sum()\n",
    "print(new_total_upper_interval)\n",
    "\n",
    "# Calculate the difference between the upper interval and the average\n",
    "print(new_total_upper_interval - df_new_tasks['Average Time'].sum()) "
   ]
  },
  {
   "cell_type": "markdown",
   "metadata": {},
   "source": [
    "# R11 # "
   ]
  },
  {
   "cell_type": "markdown",
   "metadata": {},
   "source": [
    "This inclued som operations from operator1 and operator 2 due to the rule but the focus is on operator 2 due to this beeing the longerst. "
   ]
  },
  {
   "cell_type": "code",
   "execution_count": 10,
   "metadata": {
    "vscode": {
     "languageId": "ruby"
    }
   },
   "outputs": [
    {
     "name": "stdout",
     "output_type": "stream",
     "text": [
      "                Task Name  Task Number  Number of observations  Average Time  \\\n",
      "0   wating for new frame             1                       1           3.7   \n",
      "1              cardboard             2                       2           7.4   \n",
      "2      Placeholdder hinge            3                       5           2.6   \n",
      "3            Rubber strip            4                       5           6.3   \n",
      "4    Tandem  rubber strip            5                       5           8.4   \n",
      "5             Nail gun               6                       5          10.2   \n",
      "6         hinges mounting            7                       5           3.9   \n",
      "7               screwing             8                       6          11.4   \n",
      "8          piciking parts            9                       1           2.7   \n",
      "\n",
      "   Standard Deviation  Degree of Freedom       EBM  Interval Lower  \\\n",
      "0                 0.0                  0  0.000000        3.700000   \n",
      "1                 0.2                  1  0.301510        7.098490   \n",
      "2                 0.4                  4  0.381384        2.218616   \n",
      "3                 1.1                  4  1.048805        5.251195   \n",
      "4                 3.9                  4  3.718492        4.681508   \n",
      "5                 3.0                  4  2.860378        7.339622   \n",
      "6                 1.0                  4  0.953459        2.946541   \n",
      "7                 4.1                  5  3.568580        7.831420   \n",
      "8                 0.0                  0  0.000000        2.700000   \n",
      "\n",
      "   Interval Upper  \n",
      "0        3.700000  \n",
      "1        7.701510  \n",
      "2        2.981384  \n",
      "3        7.348805  \n",
      "4       12.118492  \n",
      "5       13.060378  \n",
      "6        4.853459  \n",
      "7       14.968580  \n",
      "8        2.700000  \n",
      "                Task Name  Task Number  Number of observations  Average Time  \\\n",
      "0   wating for new frame             1                       1           3.7   \n",
      "1              cardboard             2                       2           7.4   \n",
      "2      Placeholdder hinge            3                       5           2.6   \n",
      "3            Rubber strip            4                       5           6.3   \n",
      "4    Tandem  rubber strip            5                       5           8.4   \n",
      "5             Nail gun               6                       5          10.2   \n",
      "6         hinges mounting            7                       5           3.9   \n",
      "7               screwing             8                       6          11.4   \n",
      "8          piciking parts            9                       1           2.7   \n",
      "\n",
      "   Standard Deviation  Degree of Freedom       EBM  Interval Lower  \\\n",
      "0                 0.0                  0       NaN             NaN   \n",
      "1                 0.2                  1  0.892934        6.507066   \n",
      "2                 0.4                  4  0.381384        2.218616   \n",
      "3                 1.1                  4  1.048805        5.251195   \n",
      "4                 3.9                  4  3.718492        4.681508   \n",
      "5                 3.0                  4  2.860378        7.339622   \n",
      "6                 1.0                  4  0.953459        2.946541   \n",
      "7                 4.1                  5  3.372743        8.027257   \n",
      "8                 0.0                  0       NaN             NaN   \n",
      "\n",
      "   Interval Upper      t  \n",
      "0             NaN    NaN  \n",
      "1        8.292934  6.314  \n",
      "2        2.981384  2.132  \n",
      "3        7.348805  2.132  \n",
      "4       12.118492  2.132  \n",
      "5       13.060378  2.132  \n",
      "6        4.853459  2.132  \n",
      "7       14.772743  2.015  \n",
      "8             NaN    NaN  \n",
      "63.42819591964514\n",
      "36.97180408035487\n",
      "6.8281959196451325\n"
     ]
    }
   ],
   "source": [
    "# New tasks data\n",
    "new_data_R11 = {\n",
    "    'Task Name': [' wating for new frame ', ' cardboard ', 'Placeholdder hinge', 'Rubber strip', 'Tandem  rubber strip', 'Nail gun   ','hinges mounting','screwing ','piciking parts'],\n",
    "    'Task Number': [1, 2, 3, 4, 5, 6, 7, 8, 9],\n",
    "    'Number of observations': [1, 2, 5, 5, 5, 5, 5, 6, 1],\n",
    "    'Average Time':       [3.7, 7.4, 2.6, 6.3, 8.4, 10.2, 3.9, 11.4, 2.7 ],\n",
    "    'Standard Deviation': [0  , 0.2, 0.4, 1.1, 3.9,  3.0, 1.0,  4.1, 0 ]\n",
    "}\n",
    "\n",
    "df_new_tasks_R11 = pd.DataFrame(new_data_R11)\n",
    "# Degree of freedom = n - 1 , n = number of observations\n",
    "df_new_tasks_R11['Degree of Freedom'] = df_new_tasks_R11['Number of observations'] - 1\n",
    "\n",
    "# Calculate margin of error for each task\n",
    "df_new_tasks_R11['EBM'] = df_new_tasks_R11.apply(lambda row: t * (row['Standard Deviation'] / np.sqrt(row['Number of observations'])), axis=1)\n",
    "\n",
    "# Calculate interval\n",
    "df_new_tasks_R11['Interval Lower'] = df_new_tasks_R11['Average Time'] - df_new_tasks_R11['EBM']\n",
    "df_new_tasks_R11['Interval Upper'] = df_new_tasks_R11['Average Time'] + df_new_tasks_R11['EBM']\n",
    "\n",
    "# Print the new dataframe\n",
    "print(df_new_tasks_R11)\n",
    "# Update t based on the value of v\n",
    "df_new_tasks_R11['t'] = df_new_tasks_R11['Degree of Freedom'].apply(lambda v: 6.314 if v == 1 else 2.920 if v == 2 else 2.353 if v == 3 else 2.132 if v == 4 else 2.015 if v == 5 else None)\n",
    "\n",
    "# Recalculate margin of error for each task with the updated t values\n",
    "df_new_tasks_R11['EBM'] = df_new_tasks_R11.apply(lambda row: row['t'] * (row['Standard Deviation'] / np.sqrt(row['Number of observations'])), axis=1)\n",
    "\n",
    "# Recalculate interval with the updated EBM values\n",
    "df_new_tasks_R11['Interval Lower'] = df_new_tasks_R11['Average Time'] - df_new_tasks_R11['EBM']\n",
    "df_new_tasks_R11['Interval Upper'] = df_new_tasks_R11['Average Time'] + df_new_tasks_R11['EBM']\n",
    "\n",
    "# Print the updated dataframe\n",
    "print(df_new_tasks_R11)\n",
    "# Calculate total upper interval\n",
    "new_total_upper_interval_R11 = df_new_tasks_R11['Interval Upper'].sum()\n",
    "print(new_total_upper_interval_R11)\n",
    "\n",
    "# Calculate total lower interval\n",
    "new_total_lower_interval_R11 = df_new_tasks_R11['Interval Lower'].sum()\n",
    "print(new_total_lower_interval_R11)\n",
    "\n",
    "# Calculate the difference between the upper interval and the average\n",
    "print(new_total_upper_interval_R11 - df_new_tasks_R11['Average Time'].sum())"
   ]
  },
  {
   "cell_type": "code",
   "execution_count": null,
   "metadata": {
    "vscode": {
     "languageId": "ruby"
    }
   },
   "outputs": [],
   "source": []
  }
 ],
 "metadata": {
  "kernelspec": {
   "display_name": "Python 3",
   "language": "python",
   "name": "python3"
  },
  "language_info": {
   "codemirror_mode": {
    "name": "ipython",
    "version": 3
   },
   "file_extension": ".py",
   "mimetype": "text/x-python",
   "name": "python",
   "nbconvert_exporter": "python",
   "pygments_lexer": "ipython3",
   "version": "3.11.0"
  }
 },
 "nbformat": 4,
 "nbformat_minor": 2
}
