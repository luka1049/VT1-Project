{
 "cells": [
  {
   "cell_type": "markdown",
   "metadata": {},
   "source": [
    "T student analysis of the data for the eksample work station. \n",
    "Here the an confidens interval of 99% will be used first for the time it takes to make a fram. "
   ]
  },
  {
   "cell_type": "code",
   "execution_count": 14,
   "metadata": {},
   "outputs": [],
   "source": [
    "import numpy as np\n",
    "import pandas as pd\n",
    "import matplotlib.pyplot as plt\n",
    "import math\n",
    "from math import sqrt\n",
    "import scipy.stats as stats"
   ]
  },
  {
   "cell_type": "code",
   "execution_count": 15,
   "metadata": {},
   "outputs": [
    {
     "name": "stdout",
     "output_type": "stream",
     "text": [
      "      Worker   Time\n",
      "0   worker 1   95.5\n",
      "1   worker 1  106.4\n",
      "2   worker 1  117.8\n",
      "3   worker 1  100.5\n",
      "4   worker 1  125.1\n",
      "5   worker 2  104.9\n",
      "6   worker 2  104.0\n",
      "7   worker 2  119.6\n",
      "8   worker 2   99.2\n",
      "9   worker 2  122.2\n",
      "10  worker 1   95.6\n",
      "11  worker 1   81.5\n",
      "12  worker 1  100.5\n",
      "13  worker 1   78.5\n",
      "14  worker 1   78.7\n",
      "15  worker 2  106.0\n",
      "16  worker 2   78.0\n",
      "17  worker 2   99.8\n",
      "18  worker 2   79.3\n",
      "19  worker 2   76.5\n",
      "20  worker 1   88.6\n",
      "21  worker 1  108.2\n",
      "22  worker 1   94.4\n",
      "23  worker 1   91.8\n",
      "24  worker 1   97.5\n",
      "25  worker 2   94.2\n",
      "26  worker 2  107.9\n",
      "27  worker 2   94.1\n",
      "28  worker 2   90.5\n",
      "29  worker 2   99.5\n",
      "30  worker 1  107.9\n",
      "31  worker 1   87.0\n",
      "32  worker 1   82.5\n",
      "33  worker 1   79.0\n",
      "34  worker 1  103.7\n",
      "35  worker 2  114.2\n",
      "36  worker 2   88.1\n",
      "37  worker 2   84.0\n",
      "38  worker 2   78.9\n",
      "39  worker 2  100.9\n",
      "40  worker 1  107.4\n",
      "41  worker 1   84.0\n",
      "42  worker 1   88.9\n",
      "43  worker 1  104.3\n",
      "44  worker 1   96.8\n",
      "45  worker 2  114.4\n",
      "46  worker 2   86.0\n",
      "47  worker 2   87.7\n",
      "48  worker 2  103.8\n",
      "49  worker 2   95.4\n",
      "50  worker 1  126.4\n",
      "51  worker 1   89.8\n",
      "52  worker 1  100.4\n",
      "53  worker 1   89.0\n",
      "54  worker 1   85.1\n",
      "55  worker 2  122.2\n",
      "56  worker 2   87.1\n",
      "57  worker 2   98.2\n",
      "58  worker 2   92.8\n",
      "59  worker 2   83.8\n"
     ]
    }
   ],
   "source": [
    "#data\n",
    "data = pd.read_csv('Operator_time_data_modified.csv', delimiter=\",\")\n",
    "print(data)"
   ]
  },
  {
   "cell_type": "code",
   "execution_count": 16,
   "metadata": {},
   "outputs": [
    {
     "name": "stdout",
     "output_type": "stream",
     "text": [
      "Data for worker 1:\n",
      "      Worker   Time\n",
      "0   worker 1   95.5\n",
      "1   worker 1  106.4\n",
      "2   worker 1  117.8\n",
      "3   worker 1  100.5\n",
      "4   worker 1  125.1\n",
      "10  worker 1   95.6\n",
      "11  worker 1   81.5\n",
      "12  worker 1  100.5\n",
      "13  worker 1   78.5\n",
      "14  worker 1   78.7\n",
      "20  worker 1   88.6\n",
      "21  worker 1  108.2\n",
      "22  worker 1   94.4\n",
      "23  worker 1   91.8\n",
      "24  worker 1   97.5\n",
      "30  worker 1  107.9\n",
      "31  worker 1   87.0\n",
      "32  worker 1   82.5\n",
      "33  worker 1   79.0\n",
      "34  worker 1  103.7\n",
      "40  worker 1  107.4\n",
      "41  worker 1   84.0\n",
      "42  worker 1   88.9\n",
      "43  worker 1  104.3\n",
      "44  worker 1   96.8\n",
      "50  worker 1  126.4\n",
      "51  worker 1   89.8\n",
      "52  worker 1  100.4\n",
      "53  worker 1   89.0\n",
      "54  worker 1   85.1\n",
      "\n",
      "Data for worker 2:\n",
      "      Worker   Time\n",
      "5   worker 2  104.9\n",
      "6   worker 2  104.0\n",
      "7   worker 2  119.6\n",
      "8   worker 2   99.2\n",
      "9   worker 2  122.2\n",
      "15  worker 2  106.0\n",
      "16  worker 2   78.0\n",
      "17  worker 2   99.8\n",
      "18  worker 2   79.3\n",
      "19  worker 2   76.5\n",
      "25  worker 2   94.2\n",
      "26  worker 2  107.9\n",
      "27  worker 2   94.1\n",
      "28  worker 2   90.5\n",
      "29  worker 2   99.5\n",
      "35  worker 2  114.2\n",
      "36  worker 2   88.1\n",
      "37  worker 2   84.0\n",
      "38  worker 2   78.9\n",
      "39  worker 2  100.9\n",
      "45  worker 2  114.4\n",
      "46  worker 2   86.0\n",
      "47  worker 2   87.7\n",
      "48  worker 2  103.8\n",
      "49  worker 2   95.4\n",
      "55  worker 2  122.2\n",
      "56  worker 2   87.1\n",
      "57  worker 2   98.2\n",
      "58  worker 2   92.8\n",
      "59  worker 2   83.8\n"
     ]
    }
   ],
   "source": [
    "# Separate the data for Operator 'Operator 1' and 'Operator 2'\n",
    "data_Operator_1 = data[data['Operator'] == 'Operator 1']\n",
    "data_Operator_2 = data[data['Operator'] == 'Operator 2']\n",
    "\n",
    "print(\"Data for Operator 1:\")\n",
    "print(data_Operator_1)\n",
    "\n",
    "print(\"\\nData for Operator 2:\")\n",
    "print(data_Operator_2)\n"
   ]
  },
  {
   "cell_type": "code",
   "execution_count": 17,
   "metadata": {},
   "outputs": [],
   "source": [
    "n = 30 #number of data 6*5=30\n",
    "v = n-1 #degree of freedom\n",
    "\n",
    "\n"
   ]
  },
  {
   "cell_type": "code",
   "execution_count": 18,
   "metadata": {},
   "outputs": [
    {
     "name": "stdout",
     "output_type": "stream",
     "text": [
      "Mean time for worker 1: 96.42666666666669\n",
      "Mean time for worker 2: 97.10666666666665\n"
     ]
    }
   ],
   "source": [
    "mean_Operator_1 = data_Operator_1['Time'].mean()\n",
    "mean_Operator_2 = data_Operator_2['Time'].mean()\n",
    "\n",
    "print(\"Mean time for Operator 1:\", mean_Operator_1)\n",
    "print(\"Mean time for Operator 2:\", mean_Operator_2)"
   ]
  },
  {
   "cell_type": "markdown",
   "metadata": {},
   "source": [
    "Standard deviation"
   ]
  },
  {
   "cell_type": "code",
   "execution_count": 19,
   "metadata": {},
   "outputs": [
    {
     "name": "stdout",
     "output_type": "stream",
     "text": [
      "Standard deviation for worker 1: 12.871136737659974\n",
      "Standard deviation for worker 2: 13.131875757847402\n"
     ]
    }
   ],
   "source": [
    "#s = sqrt(sum((x-x_mean)^2)/(n-1))\n",
    "# Calculate the standard deviation for Operator 1\n",
    "std_Operator_1 = sqrt(sum((data_Operator_1['Time'] - mean_Operator_1) ** 2) / v)\n",
    "print(\"Standard deviation for Operator 1:\", std_Operator_1)\n",
    "\n",
    "# Calculate the standard deviation for Operator 2\n",
    "std_Operator_2 = sqrt(sum((data_Operator_2['Time'] - mean_Operator_2) ** 2) / v)\n",
    "print(\"Standard deviation for Operator 2:\", std_Operator_2)\n"
   ]
  },
  {
   "cell_type": "markdown",
   "metadata": {},
   "source": [
    "Margen of error (EBM) #this is not the way of the book we will come to that later"
   ]
  },
  {
   "cell_type": "code",
   "execution_count": 20,
   "metadata": {},
   "outputs": [],
   "source": [
    "#EBM=t_v,alpha/(s/sqrt(n))\n",
    "cl = 0.99 #confidence level\n",
    "alpha = 1-cl"
   ]
  },
  {
   "cell_type": "markdown",
   "metadata": {},
   "source": [
    "t is read from tabular 2 where v = 29 and alpha/2 = 0,005"
   ]
  },
  {
   "cell_type": "code",
   "execution_count": 21,
   "metadata": {},
   "outputs": [],
   "source": [
    "t = 2.756 #t_v,alpha "
   ]
  },
  {
   "cell_type": "code",
   "execution_count": 22,
   "metadata": {},
   "outputs": [
    {
     "name": "stdout",
     "output_type": "stream",
     "text": [
      "Margin of error for worker 1: 6.476427228151236\n",
      "Margin of error for worker 2: 6.607624442834104\n"
     ]
    }
   ],
   "source": [
    "# Calculate the margin of error for Operator 1\n",
    "ebm_Operator_1 = t * (std_Operator_1 / sqrt(n))\n",
    "print(\"Margin of error for Operator 1:\", ebm_Operator_1)\n",
    "\n",
    "# Calculate the margin of error for Operator 2\n",
    "ebm_Operator_2 = t * (std_Operator_2/ sqrt(n))\n",
    "print(\"Margin of error for Operator 2:\", ebm_Operator_2)"
   ]
  },
  {
   "cell_type": "markdown",
   "metadata": {},
   "source": [
    "Find what the intaval for the mean is "
   ]
  },
  {
   "cell_type": "code",
   "execution_count": 23,
   "metadata": {},
   "outputs": [
    {
     "name": "stdout",
     "output_type": "stream",
     "text": [
      "Confidence interval for worker 1: (np.float64(89.95023943851545), np.float64(102.90309389481793))\n",
      "Confidence interval for worker 2: (np.float64(90.49904222383255), np.float64(103.71429110950076))\n"
     ]
    }
   ],
   "source": [
    "#mu = x_mean +- EBM = x_mean +- t_v,alpha/(s/sqrt(n))\n",
    "# Calculate the confidence interval for Operator 1\n",
    "ci_Operator_1_lower = mean_Operator_1 - ebm_Operator_1\n",
    "ci_Operator_1_upper = mean_Operator_1 + ebm_Operator_1\n",
    "print(\"Confidence interval for Operator 1:\", (ci_Operator_1_lower, ci_Operator_1_upper))\n",
    "\n",
    "# Calculate the confidence interval for Operator 2\n",
    "ci_Operator_2_lower = mean_Operator_2 - ebm_Operator_2\n",
    "ci_Operator_2_upper = mean_Operator_2 + ebm_Operator_2\n",
    "print(\"Confidence interval for Operator 2:\", (ci_Operator_2_lower, ci_Operator_2_upper))\n"
   ]
  }
 ],
 "metadata": {
  "kernelspec": {
   "display_name": "Python 3",
   "language": "python",
   "name": "python3"
  },
  "language_info": {
   "codemirror_mode": {
    "name": "ipython",
    "version": 3
   },
   "file_extension": ".py",
   "mimetype": "text/x-python",
   "name": "python",
   "nbconvert_exporter": "python",
   "pygments_lexer": "ipython3",
   "version": "3.13.0"
  }
 },
 "nbformat": 4,
 "nbformat_minor": 2
}
